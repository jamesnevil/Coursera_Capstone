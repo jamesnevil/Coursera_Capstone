{
    "cells": [
        {
            "cell_type": "markdown",
            "metadata": {
                "collapsed": true
            },
            "source": "Begin with fetching the table from wikipedia and getting the dataframe from the panda's read_html methods"
        },
        {
            "cell_type": "code",
            "execution_count": 1,
            "metadata": {},
            "outputs": [],
            "source": "import pandas as pd\nurl = 'https://en.wikipedia.org/wiki/List_of_postal_codes_of_Canada:_M'\ndfs = pd.read_html(url)\ndf = dfs[0]"
        },
        {
            "cell_type": "markdown",
            "metadata": {},
            "source": "Drop rows with 'Borough' as 'Not assigned' and replace the 'Neighbourhood' column values with 'Not assigned' with its corresponding 'Borough' value"
        },
        {
            "cell_type": "code",
            "execution_count": 2,
            "metadata": {},
            "outputs": [],
            "source": "indexNames = df[ df['Borough'] == 'Not assigned' ].index\ndf.drop(indexNames , inplace=True)\ndf.Neighbourhood.replace('Not assigned',df.Borough,inplace=True)"
        },
        {
            "cell_type": "markdown",
            "metadata": {},
            "source": "Join Neighbourhoods with same 'Borough' and 'Postcode'"
        },
        {
            "cell_type": "code",
            "execution_count": 3,
            "metadata": {},
            "outputs": [],
            "source": "df=df.groupby([\"Postcode\",\"Borough\"], as_index=False).agg({'Neighbourhood':lambda x: ','.join(x)})"
        },
        {
            "cell_type": "markdown",
            "metadata": {},
            "source": "Check the dataframe shape"
        },
        {
            "cell_type": "code",
            "execution_count": 4,
            "metadata": {},
            "outputs": [
                {
                    "data": {
                        "text/plain": "(103, 3)"
                    },
                    "execution_count": 4,
                    "metadata": {},
                    "output_type": "execute_result"
                }
            ],
            "source": "df.shape"
        },
        {
            "cell_type": "code",
            "execution_count": null,
            "metadata": {},
            "outputs": [],
            "source": ""
        }
    ],
    "metadata": {
        "kernelspec": {
            "display_name": "Python 3.6",
            "language": "python",
            "name": "python3"
        },
        "language_info": {
            "codemirror_mode": {
                "name": "ipython",
                "version": 3
            },
            "file_extension": ".py",
            "mimetype": "text/x-python",
            "name": "python",
            "nbconvert_exporter": "python",
            "pygments_lexer": "ipython3",
            "version": "3.6.9"
        }
    },
    "nbformat": 4,
    "nbformat_minor": 1
}