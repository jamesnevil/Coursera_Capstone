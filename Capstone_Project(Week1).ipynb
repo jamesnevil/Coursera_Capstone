{
    "cells": [
        {
            "cell_type": "markdown",
            "metadata": {
                "collapsed": true
            },
            "source": "# Capstone Project - The Battle of the Neighborhoods (Week 1)"
        },
        {
            "cell_type": "markdown",
            "metadata": {},
            "source": "## Table of contents\n* [Introduction: Business Problem](#introduction)\n* [Data](#data)"
        },
        {
            "cell_type": "markdown",
            "metadata": {},
            "source": "\n\n## Introduction: Business Problem <a name=\"introduction\"></a>"
        },
        {
            "cell_type": "markdown",
            "metadata": {},
            "source": "In this project we will try to find an optimal location for an Indoor multi-sports arena. Specifically, this report will be targeted to stakeholders interested in opening an **Recreational multi-sport arena** in **Toronto**, Canada.\n\nSince there is a population boom in toronto and recreational play is preferred by people of all ages,  we will try to detect **locations that do not have many indoor sports arenas**. We are also particularly interested in **areas with no gyms in vicinity**. We would also prefer locations **as close to populous centers like Downtown toronto as possible**, assuming that first two conditions are met.\n\nWe will use our data science analysis to generate a few most promissing neighborhoods based on this criteria. Advantages of each area will then be clearly expressed so that best possible final location can be chosen by stakeholders."
        },
        {
            "cell_type": "markdown",
            "metadata": {},
            "source": "## Data <a name=\"data\"></a>"
        },
        {
            "cell_type": "markdown",
            "metadata": {},
            "source": "Based on definition of our problem, factors that will influence our decission are:\n* number of existing sports arena in the neighborhood (any type of arena)\n* number of and distance to gyms in the neighborhood, if any\n* distance of neighborhood from city center\n\nWe decided to use regularly spaced grid of locations, centered around city center, to define our neighborhoods.\n\nFollowing data sources will be needed to extract/generate the required information:\n* number of sports arena and their type and location in every neighborhood will be obtained using **Foursquare API**\n* coordinate of Toronto center will be obtained using **wiki and location data by Cousera/IBM team** of well known Toronto location (Downtown Totonto)"
        },
        {
            "cell_type": "code",
            "execution_count": null,
            "metadata": {},
            "outputs": [],
            "source": ""
        }
    ],
    "metadata": {
        "kernelspec": {
            "display_name": "Python 3.6",
            "language": "python",
            "name": "python3"
        },
        "language_info": {
            "codemirror_mode": {
                "name": "ipython",
                "version": 3
            },
            "file_extension": ".py",
            "mimetype": "text/x-python",
            "name": "python",
            "nbconvert_exporter": "python",
            "pygments_lexer": "ipython3",
            "version": "3.6.9"
        }
    },
    "nbformat": 4,
    "nbformat_minor": 1
}